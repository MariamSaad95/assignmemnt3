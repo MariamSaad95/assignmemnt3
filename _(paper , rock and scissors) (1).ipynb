{
 "cells": [
  {
   "cell_type": "code",
   "execution_count": 1,
   "id": "ad484d9a-38f9-422c-aac0-dd59579e19d0",
   "metadata": {},
   "outputs": [],
   "source": [
    "import random"
   ]
  },
  {
   "cell_type": "code",
   "execution_count": 12,
   "id": "96ebb571-feae-47af-b9b6-714fbb0d7ae3",
   "metadata": {},
   "outputs": [
    {
     "name": "stdin",
     "output_type": "stream",
     "text": [
      "enter a choice (rock ,paper,scissors) : paper\n"
     ]
    },
    {
     "name": "stdout",
     "output_type": "stream",
     "text": [
      "player : paper\n",
      "computer : scissors\n",
      "player lose\n"
     ]
    }
   ],
   "source": [
    "options = (\"rock\" , \"paper\" ,\"scissors\")\n",
    "player = None\n",
    "computer = random.choice(options)\n",
    "player = input(\"enter a choice (rock ,paper,scissors) :\")\n",
    "\n",
    "\n",
    "print(f\"player : {player}\")\n",
    "print(f\"computer : {computer}\")\n",
    "if player ==computer :\n",
    "    print(\"equal\")\n",
    "elif player == \"rock\" and computer== \"scissors\":\n",
    "    print(\"player win\")\n",
    "elif player == \"paper\" and computer == \"rock\":\n",
    "    print(\"player win\")\n",
    "elif player == \"scissors\" and computer == \"paper\":\n",
    "    print(\"player win\")\n",
    "else :\n",
    "    print(\"player lose\")\n",
    "    "
   ]
  },
  {
   "cell_type": "code",
   "execution_count": null,
   "id": "6d26d42e-d58e-4abc-a521-f5536832f26b",
   "metadata": {},
   "outputs": [],
   "source": []
  }
 ],
 "metadata": {
  "kernelspec": {
   "display_name": "Python 3 (ipykernel)",
   "language": "python",
   "name": "python3"
  },
  "language_info": {
   "codemirror_mode": {
    "name": "ipython",
    "version": 3
   },
   "file_extension": ".py",
   "mimetype": "text/x-python",
   "name": "python",
   "nbconvert_exporter": "python",
   "pygments_lexer": "ipython3",
   "version": "3.9.13"
  }
 },
 "nbformat": 4,
 "nbformat_minor": 5
}
